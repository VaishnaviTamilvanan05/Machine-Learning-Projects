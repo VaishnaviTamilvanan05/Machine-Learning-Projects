{
 "cells": [
  {
   "cell_type": "code",
   "execution_count": 1,
   "id": "3d7121d2",
   "metadata": {},
   "outputs": [],
   "source": [
    "import numpy as np\n",
    "import pandas as pd\n",
    "import seaborn as sns\n",
    "from matplotlib import pyplot as plt\n",
    "from collections import Counter\n",
    "import itertools\n",
    "\n",
    "from sklearn.preprocessing import StandardScaler\n",
    "from sklearn.model_selection import train_test_split\n",
    "from sklearn.ensemble import RandomForestClassifier\n",
    "from sklearn.tree import DecisionTreeClassifier\n",
    "from sklearn.metrics import accuracy_score, precision_score, f1_score, recall_score, confusion_matrix"
   ]
  },
  {
   "cell_type": "code",
   "execution_count": 2,
   "id": "56ff7131",
   "metadata": {},
   "outputs": [
    {
     "data": {
      "text/plain": [
       "(284807, 31)"
      ]
     },
     "execution_count": 2,
     "metadata": {},
     "output_type": "execute_result"
    }
   ],
   "source": [
    "df = pd.read_csv(\"creditcard.csv\")\n",
    "df.shape"
   ]
  },
  {
   "cell_type": "code",
   "execution_count": 3,
   "id": "6eeb4968",
   "metadata": {},
   "outputs": [
    {
     "data": {
      "text/html": [
       "<div>\n",
       "<style scoped>\n",
       "    .dataframe tbody tr th:only-of-type {\n",
       "        vertical-align: middle;\n",
       "    }\n",
       "\n",
       "    .dataframe tbody tr th {\n",
       "        vertical-align: top;\n",
       "    }\n",
       "\n",
       "    .dataframe thead th {\n",
       "        text-align: right;\n",
       "    }\n",
       "</style>\n",
       "<table border=\"1\" class=\"dataframe\">\n",
       "  <thead>\n",
       "    <tr style=\"text-align: right;\">\n",
       "      <th></th>\n",
       "      <th>Time</th>\n",
       "      <th>V1</th>\n",
       "      <th>V2</th>\n",
       "      <th>V3</th>\n",
       "      <th>V4</th>\n",
       "      <th>V5</th>\n",
       "      <th>V6</th>\n",
       "      <th>V7</th>\n",
       "      <th>V8</th>\n",
       "      <th>V9</th>\n",
       "      <th>...</th>\n",
       "      <th>V21</th>\n",
       "      <th>V22</th>\n",
       "      <th>V23</th>\n",
       "      <th>V24</th>\n",
       "      <th>V25</th>\n",
       "      <th>V26</th>\n",
       "      <th>V27</th>\n",
       "      <th>V28</th>\n",
       "      <th>Amount</th>\n",
       "      <th>Class</th>\n",
       "    </tr>\n",
       "  </thead>\n",
       "  <tbody>\n",
       "    <tr>\n",
       "      <th>0</th>\n",
       "      <td>0.0</td>\n",
       "      <td>-1.359807</td>\n",
       "      <td>-0.072781</td>\n",
       "      <td>2.536347</td>\n",
       "      <td>1.378155</td>\n",
       "      <td>-0.338321</td>\n",
       "      <td>0.462388</td>\n",
       "      <td>0.239599</td>\n",
       "      <td>0.098698</td>\n",
       "      <td>0.363787</td>\n",
       "      <td>...</td>\n",
       "      <td>-0.018307</td>\n",
       "      <td>0.277838</td>\n",
       "      <td>-0.110474</td>\n",
       "      <td>0.066928</td>\n",
       "      <td>0.128539</td>\n",
       "      <td>-0.189115</td>\n",
       "      <td>0.133558</td>\n",
       "      <td>-0.021053</td>\n",
       "      <td>149.62</td>\n",
       "      <td>0</td>\n",
       "    </tr>\n",
       "    <tr>\n",
       "      <th>1</th>\n",
       "      <td>0.0</td>\n",
       "      <td>1.191857</td>\n",
       "      <td>0.266151</td>\n",
       "      <td>0.166480</td>\n",
       "      <td>0.448154</td>\n",
       "      <td>0.060018</td>\n",
       "      <td>-0.082361</td>\n",
       "      <td>-0.078803</td>\n",
       "      <td>0.085102</td>\n",
       "      <td>-0.255425</td>\n",
       "      <td>...</td>\n",
       "      <td>-0.225775</td>\n",
       "      <td>-0.638672</td>\n",
       "      <td>0.101288</td>\n",
       "      <td>-0.339846</td>\n",
       "      <td>0.167170</td>\n",
       "      <td>0.125895</td>\n",
       "      <td>-0.008983</td>\n",
       "      <td>0.014724</td>\n",
       "      <td>2.69</td>\n",
       "      <td>0</td>\n",
       "    </tr>\n",
       "    <tr>\n",
       "      <th>2</th>\n",
       "      <td>1.0</td>\n",
       "      <td>-1.358354</td>\n",
       "      <td>-1.340163</td>\n",
       "      <td>1.773209</td>\n",
       "      <td>0.379780</td>\n",
       "      <td>-0.503198</td>\n",
       "      <td>1.800499</td>\n",
       "      <td>0.791461</td>\n",
       "      <td>0.247676</td>\n",
       "      <td>-1.514654</td>\n",
       "      <td>...</td>\n",
       "      <td>0.247998</td>\n",
       "      <td>0.771679</td>\n",
       "      <td>0.909412</td>\n",
       "      <td>-0.689281</td>\n",
       "      <td>-0.327642</td>\n",
       "      <td>-0.139097</td>\n",
       "      <td>-0.055353</td>\n",
       "      <td>-0.059752</td>\n",
       "      <td>378.66</td>\n",
       "      <td>0</td>\n",
       "    </tr>\n",
       "    <tr>\n",
       "      <th>3</th>\n",
       "      <td>1.0</td>\n",
       "      <td>-0.966272</td>\n",
       "      <td>-0.185226</td>\n",
       "      <td>1.792993</td>\n",
       "      <td>-0.863291</td>\n",
       "      <td>-0.010309</td>\n",
       "      <td>1.247203</td>\n",
       "      <td>0.237609</td>\n",
       "      <td>0.377436</td>\n",
       "      <td>-1.387024</td>\n",
       "      <td>...</td>\n",
       "      <td>-0.108300</td>\n",
       "      <td>0.005274</td>\n",
       "      <td>-0.190321</td>\n",
       "      <td>-1.175575</td>\n",
       "      <td>0.647376</td>\n",
       "      <td>-0.221929</td>\n",
       "      <td>0.062723</td>\n",
       "      <td>0.061458</td>\n",
       "      <td>123.50</td>\n",
       "      <td>0</td>\n",
       "    </tr>\n",
       "    <tr>\n",
       "      <th>4</th>\n",
       "      <td>2.0</td>\n",
       "      <td>-1.158233</td>\n",
       "      <td>0.877737</td>\n",
       "      <td>1.548718</td>\n",
       "      <td>0.403034</td>\n",
       "      <td>-0.407193</td>\n",
       "      <td>0.095921</td>\n",
       "      <td>0.592941</td>\n",
       "      <td>-0.270533</td>\n",
       "      <td>0.817739</td>\n",
       "      <td>...</td>\n",
       "      <td>-0.009431</td>\n",
       "      <td>0.798278</td>\n",
       "      <td>-0.137458</td>\n",
       "      <td>0.141267</td>\n",
       "      <td>-0.206010</td>\n",
       "      <td>0.502292</td>\n",
       "      <td>0.219422</td>\n",
       "      <td>0.215153</td>\n",
       "      <td>69.99</td>\n",
       "      <td>0</td>\n",
       "    </tr>\n",
       "  </tbody>\n",
       "</table>\n",
       "<p>5 rows × 31 columns</p>\n",
       "</div>"
      ],
      "text/plain": [
       "   Time        V1        V2        V3        V4        V5        V6        V7  \\\n",
       "0   0.0 -1.359807 -0.072781  2.536347  1.378155 -0.338321  0.462388  0.239599   \n",
       "1   0.0  1.191857  0.266151  0.166480  0.448154  0.060018 -0.082361 -0.078803   \n",
       "2   1.0 -1.358354 -1.340163  1.773209  0.379780 -0.503198  1.800499  0.791461   \n",
       "3   1.0 -0.966272 -0.185226  1.792993 -0.863291 -0.010309  1.247203  0.237609   \n",
       "4   2.0 -1.158233  0.877737  1.548718  0.403034 -0.407193  0.095921  0.592941   \n",
       "\n",
       "         V8        V9  ...       V21       V22       V23       V24       V25  \\\n",
       "0  0.098698  0.363787  ... -0.018307  0.277838 -0.110474  0.066928  0.128539   \n",
       "1  0.085102 -0.255425  ... -0.225775 -0.638672  0.101288 -0.339846  0.167170   \n",
       "2  0.247676 -1.514654  ...  0.247998  0.771679  0.909412 -0.689281 -0.327642   \n",
       "3  0.377436 -1.387024  ... -0.108300  0.005274 -0.190321 -1.175575  0.647376   \n",
       "4 -0.270533  0.817739  ... -0.009431  0.798278 -0.137458  0.141267 -0.206010   \n",
       "\n",
       "        V26       V27       V28  Amount  Class  \n",
       "0 -0.189115  0.133558 -0.021053  149.62      0  \n",
       "1  0.125895 -0.008983  0.014724    2.69      0  \n",
       "2 -0.139097 -0.055353 -0.059752  378.66      0  \n",
       "3 -0.221929  0.062723  0.061458  123.50      0  \n",
       "4  0.502292  0.219422  0.215153   69.99      0  \n",
       "\n",
       "[5 rows x 31 columns]"
      ]
     },
     "execution_count": 3,
     "metadata": {},
     "output_type": "execute_result"
    }
   ],
   "source": [
    "df.head()"
   ]
  },
  {
   "cell_type": "markdown",
   "id": "a02a437b",
   "metadata": {},
   "source": [
    "**Column Details:**\n",
    "\n",
    "1. **Time:** Represents the number of seconds elapsed from the first transaction in the dataset to the current transaction.\n",
    "\n",
    "2. **V1-V28:** These columns may reflect the outcome of PCA Dimensionality reduction, implemented to safeguard user identities and protect sensitive features.\n",
    "\n",
    "3. **Amount:** Indicates the transaction amount.\n",
    "\n",
    "4. **Class:** This column takes on a value of 1 for fraudulent transactions and 0 for non-fraudulent ones, serving as the dependent variable in our analysis."
   ]
  },
  {
   "cell_type": "markdown",
   "id": "30ade8a5",
   "metadata": {},
   "source": [
    "## Data Pre-Processing & EDA"
   ]
  },
  {
   "cell_type": "code",
   "execution_count": 4,
   "id": "532a26e6",
   "metadata": {},
   "outputs": [
    {
     "data": {
      "text/plain": [
       "Time      0\n",
       "V1        0\n",
       "V2        0\n",
       "V3        0\n",
       "V4        0\n",
       "V5        0\n",
       "V6        0\n",
       "V7        0\n",
       "V8        0\n",
       "V9        0\n",
       "V10       0\n",
       "V11       0\n",
       "V12       0\n",
       "V13       0\n",
       "V14       0\n",
       "V15       0\n",
       "V16       0\n",
       "V17       0\n",
       "V18       0\n",
       "V19       0\n",
       "V20       0\n",
       "V21       0\n",
       "V22       0\n",
       "V23       0\n",
       "V24       0\n",
       "V25       0\n",
       "V26       0\n",
       "V27       0\n",
       "V28       0\n",
       "Amount    0\n",
       "Class     0\n",
       "dtype: int64"
      ]
     },
     "execution_count": 4,
     "metadata": {},
     "output_type": "execute_result"
    }
   ],
   "source": [
    "df.isnull().sum()"
   ]
  },
  {
   "cell_type": "markdown",
   "id": "011031bd",
   "metadata": {},
   "source": [
    "There are no missing values in the dataset."
   ]
  },
  {
   "cell_type": "markdown",
   "id": "3e3b71b4",
   "metadata": {},
   "source": [
    "We can drop the \"Time\" column since it is considered irrelevant for our analysis."
   ]
  },
  {
   "cell_type": "code",
   "execution_count": 5,
   "id": "55e4db79",
   "metadata": {},
   "outputs": [],
   "source": [
    "df.drop(['Time'], inplace =True, axis=1)"
   ]
  },
  {
   "cell_type": "code",
   "execution_count": 6,
   "id": "68d61c96",
   "metadata": {},
   "outputs": [
    {
     "data": {
      "text/plain": [
       "(284807, 30)"
      ]
     },
     "execution_count": 6,
     "metadata": {},
     "output_type": "execute_result"
    }
   ],
   "source": [
    "df.shape"
   ]
  },
  {
   "cell_type": "code",
   "execution_count": 7,
   "id": "7788b31e",
   "metadata": {},
   "outputs": [
    {
     "data": {
      "text/plain": [
       "count    284807.000000\n",
       "mean         88.349619\n",
       "std         250.120109\n",
       "min           0.000000\n",
       "25%           5.600000\n",
       "50%          22.000000\n",
       "75%          77.165000\n",
       "max       25691.160000\n",
       "Name: Amount, dtype: float64"
      ]
     },
     "execution_count": 7,
     "metadata": {},
     "output_type": "execute_result"
    }
   ],
   "source": [
    "df['Amount'].describe() #summary of the Amount."
   ]
  },
  {
   "cell_type": "markdown",
   "id": "cc6e2e19",
   "metadata": {},
   "source": [
    "Let's check if the data is balanced or imbalanced by calculating the percentage of fraudulent transactions."
   ]
  },
  {
   "cell_type": "code",
   "execution_count": 8,
   "id": "93c35af5",
   "metadata": {},
   "outputs": [
    {
     "data": {
      "text/plain": [
       "Class\n",
       "0    284315\n",
       "1       492\n",
       "Name: count, dtype: int64"
      ]
     },
     "execution_count": 8,
     "metadata": {},
     "output_type": "execute_result"
    }
   ],
   "source": [
    "df.Class.value_counts()"
   ]
  },
  {
   "cell_type": "code",
   "execution_count": 9,
   "id": "5dda2e5a",
   "metadata": {},
   "outputs": [
    {
     "name": "stdout",
     "output_type": "stream",
     "text": [
      "Percentage of Genuine Transactions: 99.82725143693798\n",
      "Percentage of Fraudulent Transactions: 0.1727485630620034\n"
     ]
    }
   ],
   "source": [
    "class_counts = df['Class'].value_counts()\n",
    "genuine_percentage = (class_counts[0] / len(df)) * 100\n",
    "fraud_percentage = (class_counts[1] / len(df)) * 100\n",
    "\n",
    "print(\"Percentage of Genuine Transactions:\", genuine_percentage)\n",
    "print(\"Percentage of Fraudulent Transactions:\", fraud_percentage)"
   ]
  },
  {
   "cell_type": "code",
   "execution_count": 10,
   "id": "04943b2b",
   "metadata": {},
   "outputs": [
    {
     "data": {
      "image/png": "[encoded data removed]",
      "text/plain": [
       "<Figure size 640x480 with 1 Axes>"
      ]
     },
     "metadata": {},
     "output_type": "display_data"
    }
   ],
   "source": [
    "import matplotlib.pyplot as plt\n",
    "class_counts = df['Class'].value_counts()\n",
    "# Plotting\n",
    "plt.bar(['Genuine (0)', 'Fraudulent (1)'], class_counts.values, color=['lightgreen', 'red'])\n",
    "plt.xlabel('Class')\n",
    "plt.ylabel('Transaction Counts')\n",
    "plt.title('Transaction Counts for Genuine (0) and Fraudulent (1)')\n",
    "for i, count in enumerate(class_counts.values):\n",
    "    plt.text(i, count + 500, str(count), ha='center', va='bottom')\n",
    "plt.show()\n"
   ]
  },
  {
   "cell_type": "markdown",
   "id": "11ef09e2",
   "metadata": {},
   "source": [
    "It is evident from the data that the number of fraudulent transactions is significantly lower than that of genuine transactions, indicating an imbalanced dataset.\n",
    "\n",
    "To address this, let's apply scaling techniques to the 'Amount' feature, transforming the range of values. This involves dropping the original 'Amount' column and introducing a new column containing the scaled values.\n",
    "\n",
    "Scaling aims to normalize the data, ensuring a more equitable influence of both features in subsequent analyses or modeling processes."
   ]
  },
  {
   "cell_type": "code",
   "execution_count": 11,
   "id": "4cc7de08",
   "metadata": {},
   "outputs": [],
   "source": [
    "scaler = StandardScaler()\n",
    "df['Scaled_Amount'] = scaler.fit_transform(df['Amount'].values.reshape(-1,1))\n",
    "df.drop(['Amount'], inplace =True, axis=1)"
   ]
  },
  {
   "cell_type": "code",
   "execution_count": 12,
   "id": "bd0f5af5",
   "metadata": {},
   "outputs": [
    {
     "data": {
      "text/html": [
       "<div>\n",
       "<style scoped>\n",
       "    .dataframe tbody tr th:only-of-type {\n",
       "        vertical-align: middle;\n",
       "    }\n",
       "\n",
       "    .dataframe tbody tr th {\n",
       "        vertical-align: top;\n",
       "    }\n",
       "\n",
       "    .dataframe thead th {\n",
       "        text-align: right;\n",
       "    }\n",
       "</style>\n",
       "<table border=\"1\" class=\"dataframe\">\n",
       "  <thead>\n",
       "    <tr style=\"text-align: right;\">\n",
       "      <th></th>\n",
       "      <th>V1</th>\n",
       "      <th>V2</th>\n",
       "      <th>V3</th>\n",
       "      <th>V4</th>\n",
       "      <th>V5</th>\n",
       "      <th>V6</th>\n",
       "      <th>V7</th>\n",
       "      <th>V8</th>\n",
       "      <th>V9</th>\n",
       "      <th>V10</th>\n",
       "      <th>...</th>\n",
       "      <th>V21</th>\n",
       "      <th>V22</th>\n",
       "      <th>V23</th>\n",
       "      <th>V24</th>\n",
       "      <th>V25</th>\n",
       "      <th>V26</th>\n",
       "      <th>V27</th>\n",
       "      <th>V28</th>\n",
       "      <th>Class</th>\n",
       "      <th>Scaled_Amount</th>\n",
       "    </tr>\n",
       "  </thead>\n",
       "  <tbody>\n",
       "    <tr>\n",
       "      <th>0</th>\n",
       "      <td>-1.359807</td>\n",
       "      <td>-0.072781</td>\n",
       "      <td>2.536347</td>\n",
       "      <td>1.378155</td>\n",
       "      <td>-0.338321</td>\n",
       "      <td>0.462388</td>\n",
       "      <td>0.239599</td>\n",
       "      <td>0.098698</td>\n",
       "      <td>0.363787</td>\n",
       "      <td>0.090794</td>\n",
       "      <td>...</td>\n",
       "      <td>-0.018307</td>\n",
       "      <td>0.277838</td>\n",
       "      <td>-0.110474</td>\n",
       "      <td>0.066928</td>\n",
       "      <td>0.128539</td>\n",
       "      <td>-0.189115</td>\n",
       "      <td>0.133558</td>\n",
       "      <td>-0.021053</td>\n",
       "      <td>0</td>\n",
       "      <td>0.244964</td>\n",
       "    </tr>\n",
       "    <tr>\n",
       "      <th>1</th>\n",
       "      <td>1.191857</td>\n",
       "      <td>0.266151</td>\n",
       "      <td>0.166480</td>\n",
       "      <td>0.448154</td>\n",
       "      <td>0.060018</td>\n",
       "      <td>-0.082361</td>\n",
       "      <td>-0.078803</td>\n",
       "      <td>0.085102</td>\n",
       "      <td>-0.255425</td>\n",
       "      <td>-0.166974</td>\n",
       "      <td>...</td>\n",
       "      <td>-0.225775</td>\n",
       "      <td>-0.638672</td>\n",
       "      <td>0.101288</td>\n",
       "      <td>-0.339846</td>\n",
       "      <td>0.167170</td>\n",
       "      <td>0.125895</td>\n",
       "      <td>-0.008983</td>\n",
       "      <td>0.014724</td>\n",
       "      <td>0</td>\n",
       "      <td>-0.342475</td>\n",
       "    </tr>\n",
       "    <tr>\n",
       "      <th>2</th>\n",
       "      <td>-1.358354</td>\n",
       "      <td>-1.340163</td>\n",
       "      <td>1.773209</td>\n",
       "      <td>0.379780</td>\n",
       "      <td>-0.503198</td>\n",
       "      <td>1.800499</td>\n",
       "      <td>0.791461</td>\n",
       "      <td>0.247676</td>\n",
       "      <td>-1.514654</td>\n",
       "      <td>0.207643</td>\n",
       "      <td>...</td>\n",
       "      <td>0.247998</td>\n",
       "      <td>0.771679</td>\n",
       "      <td>0.909412</td>\n",
       "      <td>-0.689281</td>\n",
       "      <td>-0.327642</td>\n",
       "      <td>-0.139097</td>\n",
       "      <td>-0.055353</td>\n",
       "      <td>-0.059752</td>\n",
       "      <td>0</td>\n",
       "      <td>1.160686</td>\n",
       "    </tr>\n",
       "    <tr>\n",
       "      <th>3</th>\n",
       "      <td>-0.966272</td>\n",
       "      <td>-0.185226</td>\n",
       "      <td>1.792993</td>\n",
       "      <td>-0.863291</td>\n",
       "      <td>-0.010309</td>\n",
       "      <td>1.247203</td>\n",
       "      <td>0.237609</td>\n",
       "      <td>0.377436</td>\n",
       "      <td>-1.387024</td>\n",
       "      <td>-0.054952</td>\n",
       "      <td>...</td>\n",
       "      <td>-0.108300</td>\n",
       "      <td>0.005274</td>\n",
       "      <td>-0.190321</td>\n",
       "      <td>-1.175575</td>\n",
       "      <td>0.647376</td>\n",
       "      <td>-0.221929</td>\n",
       "      <td>0.062723</td>\n",
       "      <td>0.061458</td>\n",
       "      <td>0</td>\n",
       "      <td>0.140534</td>\n",
       "    </tr>\n",
       "    <tr>\n",
       "      <th>4</th>\n",
       "      <td>-1.158233</td>\n",
       "      <td>0.877737</td>\n",
       "      <td>1.548718</td>\n",
       "      <td>0.403034</td>\n",
       "      <td>-0.407193</td>\n",
       "      <td>0.095921</td>\n",
       "      <td>0.592941</td>\n",
       "      <td>-0.270533</td>\n",
       "      <td>0.817739</td>\n",
       "      <td>0.753074</td>\n",
       "      <td>...</td>\n",
       "      <td>-0.009431</td>\n",
       "      <td>0.798278</td>\n",
       "      <td>-0.137458</td>\n",
       "      <td>0.141267</td>\n",
       "      <td>-0.206010</td>\n",
       "      <td>0.502292</td>\n",
       "      <td>0.219422</td>\n",
       "      <td>0.215153</td>\n",
       "      <td>0</td>\n",
       "      <td>-0.073403</td>\n",
       "    </tr>\n",
       "  </tbody>\n",
       "</table>\n",
       "<p>5 rows × 30 columns</p>\n",
       "</div>"
      ],
      "text/plain": [
       "         V1        V2        V3        V4        V5        V6        V7  \\\n",
       "0 -1.359807 -0.072781  2.536347  1.378155 -0.338321  0.462388  0.239599   \n",
       "1  1.191857  0.266151  0.166480  0.448154  0.060018 -0.082361 -0.078803   \n",
       "2 -1.358354 -1.340163  1.773209  0.379780 -0.503198  1.800499  0.791461   \n",
       "3 -0.966272 -0.185226  1.792993 -0.863291 -0.010309  1.247203  0.237609   \n",
       "4 -1.158233  0.877737  1.548718  0.403034 -0.407193  0.095921  0.592941   \n",
       "\n",
       "         V8        V9       V10  ...       V21       V22       V23       V24  \\\n",
       "0  0.098698  0.363787  0.090794  ... -0.018307  0.277838 -0.110474  0.066928   \n",
       "1  0.085102 -0.255425 -0.166974  ... -0.225775 -0.638672  0.101288 -0.339846   \n",
       "2  0.247676 -1.514654  0.207643  ...  0.247998  0.771679  0.909412 -0.689281   \n",
       "3  0.377436 -1.387024 -0.054952  ... -0.108300  0.005274 -0.190321 -1.175575   \n",
       "4 -0.270533  0.817739  0.753074  ... -0.009431  0.798278 -0.137458  0.141267   \n",
       "\n",
       "        V25       V26       V27       V28  Class  Scaled_Amount  \n",
       "0  0.128539 -0.189115  0.133558 -0.021053      0       0.244964  \n",
       "1  0.167170  0.125895 -0.008983  0.014724      0      -0.342475  \n",
       "2 -0.327642 -0.139097 -0.055353 -0.059752      0       1.160686  \n",
       "3  0.647376 -0.221929  0.062723  0.061458      0       0.140534  \n",
       "4 -0.206010  0.502292  0.219422  0.215153      0      -0.073403  \n",
       "\n",
       "[5 rows x 30 columns]"
      ]
     },
     "execution_count": 12,
     "metadata": {},
     "output_type": "execute_result"
    }
   ],
   "source": [
    "df.head()"
   ]
  },
  {
   "cell_type": "code",
   "execution_count": 13,
   "id": "6e2530b9",
   "metadata": {},
   "outputs": [],
   "source": [
    "y = df.Class\n",
    "x = df.drop(['Class'],axis=1)"
   ]
  },
  {
   "cell_type": "markdown",
   "id": "20edac67",
   "metadata": {},
   "source": [
    "Dividing the dataset into training and test sets, with 80% of the data allocated for training and the remaining 20% for the test set."
   ]
  },
  {
   "cell_type": "code",
   "execution_count": 14,
   "id": "01b9e39f",
   "metadata": {},
   "outputs": [],
   "source": [
    "x_train, x_test, y_train, y_test = train_test_split(x, y, test_size=0.2, random_state=42)"
   ]
  },
  {
   "cell_type": "code",
   "execution_count": 15,
   "id": "1c477ae5",
   "metadata": {},
   "outputs": [
    {
     "name": "stdout",
     "output_type": "stream",
     "text": [
      "The shape of x_train:  (227845, 29)\n",
      "The shape of x_test:  (56962, 29)\n"
     ]
    }
   ],
   "source": [
    "print(\"The shape of x_train: \", x_train.shape)\n",
    "print(\"The shape of x_test: \",x_test.shape)"
   ]
  },
  {
   "cell_type": "markdown",
   "id": "be6bd001",
   "metadata": {},
   "source": [
    "Now, moving forward to train and evaluate newly created models on the dataset, aiming to identify the most effective one.\n",
    "\n",
    "Begin by training both the decision tree and random forest models on the dataset using the `fit()` function. Capture the predictions generated by the models through the `predict()` function and proceed to the evaluation phase.\n",
    "\n",
    "Visualizing the performance scores of each credit card fraud classifier will provide a comprehensive understanding of their effectiveness."
   ]
  },
  {
   "cell_type": "code",
   "execution_count": 16,
   "id": "e0f4026b",
   "metadata": {},
   "outputs": [],
   "source": [
    "model_dt = DecisionTreeClassifier()\n",
    "model_dt.fit(x_train, y_train)\n",
    "y_pred1 = model_dt.predict(x_test)\n",
    "model_dt_score = model_dt.score(x_test, y_test)*100"
   ]
  },
  {
   "cell_type": "code",
   "execution_count": 17,
   "id": "6f08a0d8",
   "metadata": {},
   "outputs": [
    {
     "name": "stdout",
     "output_type": "stream",
     "text": [
      "Decision Tree - Confusion Matrix: \n",
      "[[56838    26]\n",
      " [   21    77]]\n"
     ]
    }
   ],
   "source": [
    "#Decision Tree - Confusion Matrix\n",
    "\n",
    "from sklearn.metrics import ConfusionMatrixDisplay, confusion_matrix\n",
    "\n",
    "confusion_matrix_dt = confusion_matrix(y_test,y_pred1.round())\n",
    "print(\"Decision Tree - Confusion Matrix: \")\n",
    "print(confusion_matrix_dt)"
   ]
  },
  {
   "cell_type": "code",
   "execution_count": 18,
   "id": "41f22033",
   "metadata": {},
   "outputs": [
    {
     "data": {
      "image/png": "[encoded data removed]",
      "text/plain": [
       "<Figure size 640x480 with 2 Axes>"
      ]
     },
     "metadata": {},
     "output_type": "display_data"
    }
   ],
   "source": [
    "display_labels = [0, 1]\n",
    "cm_dt = ConfusionMatrixDisplay(confusion_matrix=confusion_matrix_dt, display_labels=display_labels)\n",
    "cm_dt.plot(cmap='Reds', values_format='d')  \n",
    "plt.title('Decision Tree - Confusion Matrix')\n",
    "plt.show()"
   ]
  },
  {
   "cell_type": "markdown",
   "id": "55ccb617",
   "metadata": {},
   "source": [
    "## DT Performance metrics:"
   ]
  },
  {
   "cell_type": "code",
   "execution_count": 19,
   "id": "0b17c15d",
   "metadata": {},
   "outputs": [
    {
     "name": "stdout",
     "output_type": "stream",
     "text": [
      "Decision Tree score:  99.91748885221726\n",
      "Evaluation of Decision Tree model: \n",
      "Accuracy score:  0.9991748885221726\n",
      "f1 score:  0.7661691542288557\n",
      "Recall:  0.7857142857142857\n",
      "Precision score 0.7475728155339806\n"
     ]
    }
   ],
   "source": [
    "print(\"Decision Tree score: \", model_dt_score)\n",
    "print(\"Evaluation of Decision Tree model: \")\n",
    "print(\"Accuracy score: \", accuracy_score(y_test, y_pred1))\n",
    "print(\"f1 score: \",f1_score(y_test, y_pred1))\n",
    "print(\"Recall: \", recall_score(y_test, y_pred1))\n",
    "print(\"Precision score\", precision_score(y_test, y_pred1))"
   ]
  },
  {
   "cell_type": "markdown",
   "id": "573f8626",
   "metadata": {},
   "source": [
    "Now, let's extend our analysis to the Random Forest model. We will proceed by making predictions and assessing the performance metrics for this ensemble model. "
   ]
  },
  {
   "cell_type": "code",
   "execution_count": 20,
   "id": "f7086939",
   "metadata": {},
   "outputs": [
    {
     "name": "stdout",
     "output_type": "stream",
     "text": [
      "Random Forest score is:  99.95962220427653\n"
     ]
    }
   ],
   "source": [
    "model_rf = RandomForestClassifier()\n",
    "model_rf.fit(x_train, y_train)\n",
    "y_pred2 = model_rf.predict(x_test)\n",
    "model_rf_score = model_rf.score(x_test, y_test)*100\n",
    "print(\"Random Forest score is: \", model_rf_score)"
   ]
  },
  {
   "cell_type": "code",
   "execution_count": 21,
   "id": "f25c351b",
   "metadata": {},
   "outputs": [
    {
     "name": "stdout",
     "output_type": "stream",
     "text": [
      "Random Forest - Confusion Matrix: \n",
      "[[56862     2]\n",
      " [   21    77]]\n"
     ]
    }
   ],
   "source": [
    "confusion_matrix_rf = confusion_matrix(y_test, y_pred2.round())\n",
    "print(\"Random Forest - Confusion Matrix: \")\n",
    "print(confusion_matrix_rf)"
   ]
  },
  {
   "cell_type": "code",
   "execution_count": 22,
   "id": "577f14f3",
   "metadata": {},
   "outputs": [
    {
     "data": {
      "image/png": "[encoded data removed]",
      "text/plain": [
       "<Figure size 640x480 with 2 Axes>"
      ]
     },
     "metadata": {},
     "output_type": "display_data"
    }
   ],
   "source": [
    "display_labels = [0, 1]\n",
    "cm_rf = ConfusionMatrixDisplay(confusion_matrix=confusion_matrix_rf, display_labels=display_labels)\n",
    "cm_rf.plot(cmap='Blues', values_format='d')  \n",
    "plt.title('Random Forest - Confusion Matrix')\n",
    "plt.show()"
   ]
  },
  {
   "cell_type": "markdown",
   "id": "e4ebae26",
   "metadata": {},
   "source": [
    "## RF Performance metrics:"
   ]
  },
  {
   "cell_type": "code",
   "execution_count": 23,
   "id": "a6c715f2",
   "metadata": {},
   "outputs": [
    {
     "name": "stdout",
     "output_type": "stream",
     "text": [
      "Random Forest score is:  99.95962220427653\n",
      "Evaluation of Random Forest model: \n",
      "Accuracy score:  0.9995962220427653\n",
      "F1 score:  0.8700564971751412\n",
      "Recall score:  0.7857142857142857\n",
      "Precision score:  0.9746835443037974\n"
     ]
    }
   ],
   "source": [
    "print(\"Random Forest score is: \", model_rf_score)\n",
    "print(\"Evaluation of Random Forest model: \")\n",
    "print(\"Accuracy score: \",accuracy_score(y_test,y_pred2))\n",
    "print(\"F1 score: \", f1_score(y_test, y_pred2))\n",
    "print(\"Recall score: \", recall_score(y_test,y_pred2))\n",
    "print(\"Precision score: \", precision_score(y_test,y_pred2))"
   ]
  },
  {
   "cell_type": "markdown",
   "id": "562e0bcc",
   "metadata": {},
   "source": [
    "While the performance of the Random Forest model appears promising, let's further evaluate the effectiveness of an additional model to ensure a comprehensive analysis."
   ]
  },
  {
   "cell_type": "code",
   "execution_count": 24,
   "id": "56cadf4a",
   "metadata": {},
   "outputs": [
    {
     "name": "stdout",
     "output_type": "stream",
     "text": [
      "The Logistic Regression model score is:  99.91222218320986\n"
     ]
    }
   ],
   "source": [
    "from sklearn.linear_model import LogisticRegression\n",
    "\n",
    "model_lg = LogisticRegression()\n",
    "model_lg.fit(x_train, y_train)\n",
    "y_pred3 = model_lg.predict(x_test)\n",
    "model_lg_score = model_lg.score(x_test, y_test)*100\n",
    "print(\"The Logistic Regression model score is: \", model_lg_score)"
   ]
  },
  {
   "cell_type": "markdown",
   "id": "18847544",
   "metadata": {},
   "source": [
    "## Mitigating Class Imbalance in Credit Card Fraud Detection:\n",
    "\n",
    "While the Random Forest model outperforms others, our dataset grapples with a severe class imbalance issue. Legitimate transactions dominate, comprising over 99%, while credit card fraud transactions are a mere 0.17%. This imbalance can skew the model towards favoring the majority class during training, leading to inflated accuracy.\n",
    "\n",
    "To tackle this, oversampling the minority class is a solution. We can employ the Synthetic Minority Oversampling Technique (SMOTE) from the imbalanced-learn package. SMOTE generates synthetic examples for the minority class, addressing the data imbalance.\n",
    "\n",
    "In the following code snippet, we integrate SMOTE to rebalance the dataset. The resampled data is then split using `train_test_split()` with an 80-20 ratio."
   ]
  },
  {
   "cell_type": "code",
   "execution_count": 26,
   "id": "e3ef2f1c",
   "metadata": {},
   "outputs": [
    {
     "name": "stdout",
     "output_type": "stream",
     "text": [
      "shape of resampled x:  (568630, 29)\n",
      "shape of resampled y:  (568630,)\n",
      "Counter({0: 284315, 1: 284315})\n"
     ]
    }
   ],
   "source": [
    "from imblearn.over_sampling import SMOTE\n",
    "\n",
    "x_resampled,y_resampled = SMOTE().fit_resample(x,y)\n",
    "print(\"shape of resampled x: \", x_resampled.shape)\n",
    "print(\"shape of resampled y: \", y_resampled.shape)\n",
    "\n",
    "value_counts = Counter(y_resampled)\n",
    "print(value_counts)"
   ]
  },
  {
   "cell_type": "code",
   "execution_count": 27,
   "id": "14442669",
   "metadata": {},
   "outputs": [],
   "source": [
    "#Spiliting the dataset\n",
    "x_re_train, x_re_test, y_re_train, y_re_test = train_test_split(x_resampled,y_resampled,random_state=42)"
   ]
  },
  {
   "cell_type": "markdown",
   "id": "3ca69cac",
   "metadata": {},
   "source": [
    "The Random Forest model exhibited superior performance; consequently, let us apply it to the resampled dataset for further analysis."
   ]
  },
  {
   "cell_type": "code",
   "execution_count": 28,
   "id": "d19095f2",
   "metadata": {},
   "outputs": [
    {
     "name": "stdout",
     "output_type": "stream",
     "text": [
      "Prediction score for resampled:  99.98874491762687\n"
     ]
    }
   ],
   "source": [
    "resampled_rf = RandomForestClassifier(n_estimators=100)\n",
    "resampled_rf.fit(x_re_train, y_re_train)\n",
    "y_re_pred = resampled_rf.predict(x_re_test)\n",
    "prediction_resampled_score = resampled_rf.score(x_re_test,y_re_test)*100\n",
    "print(\"Prediction score for resampled: \", prediction_resampled_score)"
   ]
  },
  {
   "cell_type": "code",
   "execution_count": 29,
   "id": "9f1426f5",
   "metadata": {},
   "outputs": [
    {
     "name": "stdout",
     "output_type": "stream",
     "text": [
      "Confusion matrix of resampled data - Random Forest\n",
      "[[71007    16]\n",
      " [    0 71135]]\n"
     ]
    }
   ],
   "source": [
    "confusion_matrix_rf_resampled = confusion_matrix(y_re_test,y_re_pred.round())\n",
    "print(\"Confusion matrix of resampled data - Random Forest\")\n",
    "print(confusion_matrix_rf_resampled)\n"
   ]
  },
  {
   "cell_type": "code",
   "execution_count": 31,
   "id": "4cf935f7",
   "metadata": {},
   "outputs": [
    {
     "data": {
      "image/png": "[encoded data removed]",
      "text/plain": [
       "<Figure size 640x480 with 2 Axes>"
      ]
     },
     "metadata": {},
     "output_type": "display_data"
    }
   ],
   "source": [
    "display_labels = [0, 1]\n",
    "cm_resampled_rf = ConfusionMatrixDisplay(confusion_matrix=confusion_matrix_rf_resampled, display_labels=display_labels)\n",
    "cm_resampled_rf.plot(cmap='Oranges', values_format='d')  \n",
    "plt.title('Random Forest - Confusion Matrix of resampled data')\n",
    "plt.show()"
   ]
  },
  {
   "cell_type": "code",
   "execution_count": 32,
   "id": "8402b586",
   "metadata": {},
   "outputs": [
    {
     "name": "stdout",
     "output_type": "stream",
     "text": [
      "Evaluation of the random forest model with resampled data: \n",
      "Accuracy score:  0.9998874491762687\n",
      "F1 score:  0.9998875504266056\n",
      "Recall score:  1.0\n",
      "Precision score:  0.9997751261401807\n"
     ]
    }
   ],
   "source": [
    "print(\"Evaluation of the random forest model with resampled data: \")\n",
    "print(\"Accuracy score: \",accuracy_score(y_re_test,y_re_pred))\n",
    "print(\"F1 score: \", f1_score(y_re_test,y_re_pred))\n",
    "print(\"Recall score: \", recall_score(y_re_test,y_re_pred))\n",
    "print(\"Precision score: \",precision_score(y_re_test,y_re_pred))"
   ]
  },
  {
   "cell_type": "markdown",
   "id": "ee076faf",
   "metadata": {},
   "source": [
    "Our Random Forest model, trained on resampled data using SMOTE, has exhibited outstanding performance, notably achieving a perfect Recall score of 1. This signifies the model's remarkable ability to capture all instances of the minority class, affirming its efficacy in addressing imbalanced datasets."
   ]
  },
  {
   "cell_type": "code",
   "execution_count": null,
   "id": "4c69bfc8",
   "metadata": {},
   "outputs": [],
   "source": []
  }
 ],
 "metadata": {
  "kernelspec": {
   "display_name": "Python 3 (ipykernel)",
   "language": "python",
   "name": "python3"
  },
  "language_info": {
   "codemirror_mode": {
    "name": "ipython",
    "version": 3
   },
   "file_extension": ".py",
   "mimetype": "text/x-python",
   "name": "python",
   "nbconvert_exporter": "python",
   "pygments_lexer": "ipython3",
   "version": "3.11.4"
  }
 },
 "nbformat": 4,
 "nbformat_minor": 5
}
