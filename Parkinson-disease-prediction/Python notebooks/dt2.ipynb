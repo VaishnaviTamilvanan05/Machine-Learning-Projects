{
 "cells": [
  {
   "cell_type": "code",
   "execution_count": null,
   "metadata": {},
   "outputs": [],
   "source": [
    "\n"
   ]
  },
  {
   "cell_type": "code",
   "execution_count": 24,
   "metadata": {},
   "outputs": [],
   "source": [
    "from time import time\n",
    "from sklearn.naive_bayes import GaussianNB\n",
    "from sklearn import svm\n",
    "from sklearn.linear_model import SGDClassifier\n",
    "from sklearn.ensemble import GradientBoostingClassifier\n",
    "from sklearn.metrics import make_scorer\n",
    "from sklearn.metrics import f1_score"
   ]
  },
  {
   "cell_type": "code",
   "execution_count": 25,
   "metadata": {},
   "outputs": [],
   "source": [
    "import numpy as np\n",
    "import pandas as pd\n",
    "from time import time\n",
    "from sklearn.model_selection import train_test_split"
   ]
  },
  {
   "cell_type": "code",
   "execution_count": 26,
   "metadata": {},
   "outputs": [],
   "source": [
    "import matplotlib.pyplot as plt\n",
    "from sklearn import datasets"
   ]
  },
  {
   "cell_type": "code",
   "execution_count": 27,
   "metadata": {},
   "outputs": [],
   "source": [
    "dataset=pd.read_csv(\"C:\\\\Users\\\\Vaishnavai\\\\parkinson files\\\\dataset entropy\\\\DA2.csv\")\n",
    "X= dataset.iloc[:,[1,2,3,4,5,6,7,8,9,10,11,12,13,14,15,16,18,19,20,21,22,23]].values\n",
    "y= dataset.iloc[:,17].values\n",
    "#splitdataset\n",
    "from sklearn.model_selection import train_test_split\n",
    "X_train,X_test,y_train,y_test = train_test_split(X,y,test_size=0.5, random_state=0)"
   ]
  },
  {
   "cell_type": "code",
   "execution_count": 28,
   "metadata": {},
   "outputs": [],
   "source": [
    "#feature scaling\n",
    "from sklearn.preprocessing import StandardScaler\n",
    "sc_X = StandardScaler()\n",
    "X_train = sc_X.fit_transform(X_train)\n",
    "X_test = sc_X.transform(X_test)"
   ]
  },
  {
   "cell_type": "code",
   "execution_count": null,
   "metadata": {},
   "outputs": [],
   "source": []
  },
  {
   "cell_type": "code",
   "execution_count": 29,
   "metadata": {},
   "outputs": [],
   "source": [
    "#appling principal compound analysis (PCA) feature extraction\n",
    "from sklearn.decomposition import PCA\n",
    "pca= PCA(n_components = 2)\n",
    "X_train = pca.fit_transform(X_train)\n",
    "X_test = pca.transform(X_test)\n",
    "variance= pca.explained_variance_ratio_"
   ]
  },
  {
   "cell_type": "code",
   "execution_count": 30,
   "metadata": {},
   "outputs": [
    {
     "name": "stdout",
     "output_type": "stream",
     "text": [
      "accuracy of svm model is: 71.42857142857143\n",
      " error rate 28.57142857142857\n"
     ]
    }
   ],
   "source": [
    "#fitting into svm model\n",
    "from sklearn.svm import SVC\n",
    "classifi2 = SVC()\n",
    "classifi2.fit(X_train,y_train)\n",
    "#results\n",
    "y2_pred = classifi2.predict(X_test)\n",
    "#accuracy score\n",
    "from sklearn.metrics import accuracy_score\n",
    "accuracy_score(y_test,y2_pred)\n",
    "print(\"accuracy of svm model is:\",accuracy_score(y_test,y2_pred)*100)\n",
    "error_rate = 1- accuracy_score(y_test,y2_pred)\n",
    "print(\" error rate\",error_rate*100)"
   ]
  },
  {
   "cell_type": "code",
   "execution_count": 31,
   "metadata": {},
   "outputs": [
    {
     "name": "stdout",
     "output_type": "stream",
     "text": [
      "              precision    recall  f1-score   support\n",
      "\n",
      "           0       0.71      1.00      0.83         5\n",
      "           1       0.00      0.00      0.00         2\n",
      "\n",
      "    accuracy                           0.71         7\n",
      "   macro avg       0.36      0.50      0.42         7\n",
      "weighted avg       0.51      0.71      0.60         7\n",
      "\n"
     ]
    },
    {
     "name": "stderr",
     "output_type": "stream",
     "text": [
      "C:\\Users\\Vaishnavai\\anaconda3\\lib\\site-packages\\sklearn\\metrics\\_classification.py:1221: UndefinedMetricWarning: Precision and F-score are ill-defined and being set to 0.0 in labels with no predicted samples. Use `zero_division` parameter to control this behavior.\n",
      "  _warn_prf(average, modifier, msg_start, len(result))\n"
     ]
    }
   ],
   "source": [
    "# Import classification report and confusion matrix to evaluate predictions\n",
    "from sklearn.metrics import classification_report, confusion_matrix\n",
    "print(classification_report(y_test, y2_pred))"
   ]
  },
  {
   "cell_type": "code",
   "execution_count": 32,
   "metadata": {},
   "outputs": [
    {
     "data": {
      "text/html": [
       "<div>\n",
       "<style scoped>\n",
       "    .dataframe tbody tr th:only-of-type {\n",
       "        vertical-align: middle;\n",
       "    }\n",
       "\n",
       "    .dataframe tbody tr th {\n",
       "        vertical-align: top;\n",
       "    }\n",
       "\n",
       "    .dataframe thead th {\n",
       "        text-align: right;\n",
       "    }\n",
       "</style>\n",
       "<table border=\"1\" class=\"dataframe\">\n",
       "  <thead>\n",
       "    <tr style=\"text-align: right;\">\n",
       "      <th></th>\n",
       "      <th>predicted_parkinson</th>\n",
       "      <th>predicted_healthy</th>\n",
       "    </tr>\n",
       "  </thead>\n",
       "  <tbody>\n",
       "    <tr>\n",
       "      <th>is_parkinson</th>\n",
       "      <td>5</td>\n",
       "      <td>0</td>\n",
       "    </tr>\n",
       "    <tr>\n",
       "      <th>is_healthy</th>\n",
       "      <td>2</td>\n",
       "      <td>0</td>\n",
       "    </tr>\n",
       "  </tbody>\n",
       "</table>\n",
       "</div>"
      ],
      "text/plain": [
       "              predicted_parkinson  predicted_healthy\n",
       "is_parkinson                    5                  0\n",
       "is_healthy                      2                  0"
      ]
     },
     "execution_count": 32,
     "metadata": {},
     "output_type": "execute_result"
    }
   ],
   "source": [
    "# Print out confusion matrix\n",
    "cm =np.array(confusion_matrix(y_test, y2_pred))\n",
    "confusion= pd.DataFrame(cm,index=['is_parkinson','is_healthy'], columns=['predicted_parkinson','predicted_healthy'])\n",
    "#print(cmat)\n",
    "confusion"
   ]
  },
  {
   "cell_type": "code",
   "execution_count": 33,
   "metadata": {},
   "outputs": [
    {
     "name": "stdout",
     "output_type": "stream",
     "text": [
      "accuracy of random forest model is: 71.42857142857143\n",
      " error rate 28.57142857142857\n"
     ]
    }
   ],
   "source": [
    "#fitting into random forest model\n",
    "from sklearn.ensemble import RandomForestClassifier\n",
    "classifi3=RandomForestClassifier(n_estimators =20, criterion= \"entropy\" , random_state = 0)\n",
    "classifi3.fit(X_train,y_train)\n",
    "#results\n",
    "y3_pred = classifi3.predict(X_test)\n",
    "#accuracy score\n",
    "from sklearn.metrics import accuracy_score, confusion_matrix\n",
    "accuracy_score(y_test,y3_pred)\n",
    "cm= confusion_matrix(y_test,y3_pred)\n",
    "print(\"accuracy of random forest model is:\",accuracy_score(y_test,y3_pred)*100)\n",
    "error_rate = 1- accuracy_score(y_test,y3_pred)\n",
    "print(\" error rate\",error_rate*100)"
   ]
  },
  {
   "cell_type": "code",
   "execution_count": 34,
   "metadata": {},
   "outputs": [
    {
     "name": "stdout",
     "output_type": "stream",
     "text": [
      "              precision    recall  f1-score   support\n",
      "\n",
      "           0       0.71      1.00      0.83         5\n",
      "           1       0.00      0.00      0.00         2\n",
      "\n",
      "    accuracy                           0.71         7\n",
      "   macro avg       0.36      0.50      0.42         7\n",
      "weighted avg       0.51      0.71      0.60         7\n",
      "\n"
     ]
    },
    {
     "name": "stderr",
     "output_type": "stream",
     "text": [
      "C:\\Users\\Vaishnavai\\anaconda3\\lib\\site-packages\\sklearn\\metrics\\_classification.py:1221: UndefinedMetricWarning: Precision and F-score are ill-defined and being set to 0.0 in labels with no predicted samples. Use `zero_division` parameter to control this behavior.\n",
      "  _warn_prf(average, modifier, msg_start, len(result))\n"
     ]
    }
   ],
   "source": [
    "# Import classification report and confusion matrix to evaluate predictions\n",
    "from sklearn.metrics import classification_report, confusion_matrix\n",
    "print(classification_report(y_test, y3_pred))"
   ]
  },
  {
   "cell_type": "code",
   "execution_count": 35,
   "metadata": {},
   "outputs": [
    {
     "name": "stdout",
     "output_type": "stream",
     "text": [
      "accuracy of naiveBayes model is: 71.42857142857143\n",
      " error rate 28.57142857142857\n"
     ]
    }
   ],
   "source": [
    "from sklearn.naive_bayes import GaussianNB\n",
    "classifi4=GaussianNB()\n",
    "classifi4.fit(X_train,y_train)\n",
    "#results\n",
    "y4_pred = classifi4.predict(X_test)\n",
    "#accuracy score\n",
    "from sklearn.metrics import accuracy_score\n",
    "accuracy_score(y_test,y4_pred)\n",
    "print(\"accuracy of naiveBayes model is:\",accuracy_score(y_test,y4_pred)*100)\n",
    "error_rate = 1- accuracy_score(y_test,y4_pred)\n",
    "print(\" error rate\",error_rate*100)"
   ]
  },
  {
   "cell_type": "code",
   "execution_count": 36,
   "metadata": {},
   "outputs": [
    {
     "name": "stdout",
     "output_type": "stream",
     "text": [
      "              precision    recall  f1-score   support\n",
      "\n",
      "           0       0.71      1.00      0.83         5\n",
      "           1       0.00      0.00      0.00         2\n",
      "\n",
      "    accuracy                           0.71         7\n",
      "   macro avg       0.36      0.50      0.42         7\n",
      "weighted avg       0.51      0.71      0.60         7\n",
      "\n"
     ]
    },
    {
     "name": "stderr",
     "output_type": "stream",
     "text": [
      "C:\\Users\\Vaishnavai\\anaconda3\\lib\\site-packages\\sklearn\\metrics\\_classification.py:1221: UndefinedMetricWarning: Precision and F-score are ill-defined and being set to 0.0 in labels with no predicted samples. Use `zero_division` parameter to control this behavior.\n",
      "  _warn_prf(average, modifier, msg_start, len(result))\n"
     ]
    }
   ],
   "source": [
    "# Import classification report and confusion matrix to evaluate predictions\n",
    "from sklearn.metrics import classification_report, confusion_matrix\n",
    "print(classification_report(y_test, y4_pred))"
   ]
  },
  {
   "cell_type": "code",
   "execution_count": 37,
   "metadata": {},
   "outputs": [
    {
     "name": "stdout",
     "output_type": "stream",
     "text": [
      "accuracy of decisiontree model is: 71.42857142857143\n",
      " error rate 28.57142857142857\n"
     ]
    }
   ],
   "source": [
    "from sklearn.tree import DecisionTreeClassifier\n",
    "classifi5=DecisionTreeClassifier()\n",
    "classifi5.fit(X_train,y_train)\n",
    "#results\n",
    "y5_pred = classifi5.predict(X_test)\n",
    "#accuracy score\n",
    "from sklearn.metrics import accuracy_score\n",
    "accuracy_score(y_test,y5_pred)\n",
    "print(\"accuracy of decisiontree model is:\",accuracy_score(y_test,y5_pred)*100)\n",
    "error_rate = 1- accuracy_score(y_test,y5_pred)\n",
    "print(\" error rate\",error_rate*100)"
   ]
  },
  {
   "cell_type": "code",
   "execution_count": 38,
   "metadata": {},
   "outputs": [
    {
     "data": {
      "text/html": [
       "<div>\n",
       "<style scoped>\n",
       "    .dataframe tbody tr th:only-of-type {\n",
       "        vertical-align: middle;\n",
       "    }\n",
       "\n",
       "    .dataframe tbody tr th {\n",
       "        vertical-align: top;\n",
       "    }\n",
       "\n",
       "    .dataframe thead th {\n",
       "        text-align: right;\n",
       "    }\n",
       "</style>\n",
       "<table border=\"1\" class=\"dataframe\">\n",
       "  <thead>\n",
       "    <tr style=\"text-align: right;\">\n",
       "      <th></th>\n",
       "      <th>predicted_parkinson</th>\n",
       "      <th>predicted_healthy</th>\n",
       "    </tr>\n",
       "  </thead>\n",
       "  <tbody>\n",
       "    <tr>\n",
       "      <th>is_parkinson</th>\n",
       "      <td>5</td>\n",
       "      <td>0</td>\n",
       "    </tr>\n",
       "    <tr>\n",
       "      <th>is_healthy</th>\n",
       "      <td>2</td>\n",
       "      <td>0</td>\n",
       "    </tr>\n",
       "  </tbody>\n",
       "</table>\n",
       "</div>"
      ],
      "text/plain": [
       "              predicted_parkinson  predicted_healthy\n",
       "is_parkinson                    5                  0\n",
       "is_healthy                      2                  0"
      ]
     },
     "execution_count": 38,
     "metadata": {},
     "output_type": "execute_result"
    }
   ],
   "source": [
    "# Print out confusion matrix\n",
    "cm =np.array(confusion_matrix(y_test, y5_pred))\n",
    "confusion= pd.DataFrame(cm,index=['is_parkinson','is_healthy'], columns=['predicted_parkinson','predicted_healthy'])\n",
    "#print(cmat)\n",
    "confusion"
   ]
  },
  {
   "cell_type": "code",
   "execution_count": 39,
   "metadata": {},
   "outputs": [
    {
     "name": "stdout",
     "output_type": "stream",
     "text": [
      "-123.99234006271769 %\n"
     ]
    }
   ],
   "source": [
    "from sklearn.linear_model import LinearRegression\n",
    "classifi6=LinearRegression()\n",
    "classifi6.fit(X_train,y_train)\n",
    "#results\n",
    "y6_pred = classifi6.predict(X_test)\n",
    "accuracy = classifi6.score(X_test,y_test)\n",
    "print(accuracy*100,'%')"
   ]
  },
  {
   "cell_type": "code",
   "execution_count": 40,
   "metadata": {},
   "outputs": [
    {
     "data": {
      "text/html": [
       "<div>\n",
       "<style scoped>\n",
       "    .dataframe tbody tr th:only-of-type {\n",
       "        vertical-align: middle;\n",
       "    }\n",
       "\n",
       "    .dataframe tbody tr th {\n",
       "        vertical-align: top;\n",
       "    }\n",
       "\n",
       "    .dataframe thead th {\n",
       "        text-align: right;\n",
       "    }\n",
       "</style>\n",
       "<table border=\"1\" class=\"dataframe\">\n",
       "  <thead>\n",
       "    <tr style=\"text-align: right;\">\n",
       "      <th></th>\n",
       "      <th>predicted_parkinson</th>\n",
       "      <th>predicted_healthy</th>\n",
       "    </tr>\n",
       "  </thead>\n",
       "  <tbody>\n",
       "    <tr>\n",
       "      <th>is_parkinson</th>\n",
       "      <td>5</td>\n",
       "      <td>0</td>\n",
       "    </tr>\n",
       "    <tr>\n",
       "      <th>is_healthy</th>\n",
       "      <td>2</td>\n",
       "      <td>0</td>\n",
       "    </tr>\n",
       "  </tbody>\n",
       "</table>\n",
       "</div>"
      ],
      "text/plain": [
       "              predicted_parkinson  predicted_healthy\n",
       "is_parkinson                    5                  0\n",
       "is_healthy                      2                  0"
      ]
     },
     "execution_count": 40,
     "metadata": {},
     "output_type": "execute_result"
    }
   ],
   "source": [
    "cm =np.array(confusion_matrix(y_test, y5_pred))\n",
    "confusion= pd.DataFrame(cm,index=['is_parkinson','is_healthy'], columns=['predicted_parkinson','predicted_healthy'])\n",
    "#print(cmat)\n",
    "confusion"
   ]
  },
  {
   "cell_type": "code",
   "execution_count": null,
   "metadata": {},
   "outputs": [],
   "source": []
  },
  {
   "cell_type": "code",
   "execution_count": 41,
   "metadata": {},
   "outputs": [],
   "source": [
    "#fitting into knn model\n",
    "from sklearn.neighbors import KNeighborsClassifier\n",
    "classifi= KNeighborsClassifier(n_neighbors =2, p=1, metric ='minkowski')\n",
    "classifi.fit(X_train,y_train)\n",
    "#predicting results\n",
    "y1_pred = classifi.predict(X_test)"
   ]
  },
  {
   "cell_type": "code",
   "execution_count": 42,
   "metadata": {},
   "outputs": [
    {
     "name": "stdout",
     "output_type": "stream",
     "text": [
      "accuracy of knn model is: 71.42857142857143\n",
      " error rate 28.57142857142857\n"
     ]
    }
   ],
   "source": [
    "#accuracy score\n",
    "from sklearn.metrics import accuracy_score\n",
    "accuracy_score(y_test,y1_pred)\n",
    "print(\"accuracy of knn model is:\",accuracy_score(y_test,y1_pred)*100)\n",
    "error_rate = 1- accuracy_score(y_test,y1_pred)\n",
    "print(\" error rate\",error_rate*100)"
   ]
  },
  {
   "cell_type": "code",
   "execution_count": 43,
   "metadata": {},
   "outputs": [
    {
     "name": "stdout",
     "output_type": "stream",
     "text": [
      "              precision    recall  f1-score   support\n",
      "\n",
      "           0       0.71      1.00      0.83         5\n",
      "           1       0.00      0.00      0.00         2\n",
      "\n",
      "    accuracy                           0.71         7\n",
      "   macro avg       0.36      0.50      0.42         7\n",
      "weighted avg       0.51      0.71      0.60         7\n",
      "\n"
     ]
    },
    {
     "name": "stderr",
     "output_type": "stream",
     "text": [
      "C:\\Users\\Vaishnavai\\anaconda3\\lib\\site-packages\\sklearn\\metrics\\_classification.py:1221: UndefinedMetricWarning: Precision and F-score are ill-defined and being set to 0.0 in labels with no predicted samples. Use `zero_division` parameter to control this behavior.\n",
      "  _warn_prf(average, modifier, msg_start, len(result))\n"
     ]
    }
   ],
   "source": [
    "# Import classification report and confusion matrix to evaluate predictions\n",
    "from sklearn.metrics import classification_report, confusion_matrix\n",
    "print(classification_report(y_test, y1_pred))"
   ]
  },
  {
   "cell_type": "code",
   "execution_count": null,
   "metadata": {},
   "outputs": [],
   "source": []
  },
  {
   "cell_type": "code",
   "execution_count": null,
   "metadata": {},
   "outputs": [],
   "source": []
  },
  {
   "cell_type": "code",
   "execution_count": null,
   "metadata": {},
   "outputs": [],
   "source": []
  }
 ],
 "metadata": {
  "kernelspec": {
   "display_name": "Python 3",
   "language": "python",
   "name": "python3"
  },
  "language_info": {
   "codemirror_mode": {
    "name": "ipython",
    "version": 3
   },
   "file_extension": ".py",
   "mimetype": "text/x-python",
   "name": "python",
   "nbconvert_exporter": "python",
   "pygments_lexer": "ipython3",
   "version": "3.7.6"
  }
 },
 "nbformat": 4,
 "nbformat_minor": 4
}
